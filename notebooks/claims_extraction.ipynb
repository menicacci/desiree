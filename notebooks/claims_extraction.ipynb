{
 "cells": [
  {
   "cell_type": "markdown",
   "metadata": {},
   "source": [
    "Set-Up"
   ]
  },
  {
   "cell_type": "code",
   "execution_count": null,
   "metadata": {
    "collapsed": false,
    "pycharm": {
     "name": "#%%\n"
    }
   },
   "outputs": [],
   "source": [
    "import sys\n",
    "import os\n",
    "sys.path.append(os.path.abspath(os.path.join('..')))\n",
    "\n",
    "from scripts import download\n",
    "from scripts.constants import Constants\n",
    "from scripts.llm.llm_request import Executor\n",
    "from scripts.table import table_extraction, table_types"
   ]
  },
  {
   "cell_type": "markdown",
   "metadata": {},
   "source": [
    "Download Articles"
   ]
  },
  {
   "cell_type": "code",
   "execution_count": null,
   "metadata": {},
   "outputs": [],
   "source": [
    "article_dir = \"CS_GT\"\n",
    "json_file_name = f\"{article_dir}.json\"\n",
    "\n",
    "# Download articles as HTML files\n",
    "# search_query = '\"Entity Matching\"'\n",
    "# download.get_articles(search_query, articles_path)\n",
    "\n",
    "# table_extraction.extract_and_save_tables(article_dir, json_file_name)\n",
    "table_extraction.check_extracted_data(json_file_name)"
   ]
  },
  {
   "cell_type": "markdown",
   "metadata": {},
   "source": [
    "Claim Extraction"
   ]
  },
  {
   "cell_type": "code",
   "execution_count": null,
   "metadata": {},
   "outputs": [],
   "source": [
    "output_dir = \"CS_Label_Caption_NEW_3\"\n",
    "tables_file_name = json_file_name\n",
    "msgs_dir = \"CS_Label_Caption_NEW\"\n",
    "\n",
    "extractor = Executor(output_dir, tables_file_name, msgs_dir)\n",
    "extractor.prepare()\n",
    "extractor.execute()\n",
    " "
   ]
  },
  {
   "cell_type": "markdown",
   "metadata": {},
   "source": [
    "Ground Truth"
   ]
  },
  {
   "cell_type": "code",
   "execution_count": null,
   "metadata": {},
   "outputs": [],
   "source": [
    "gt_answer_path = os.path.join(Constants.GROUND_TRUTH_PATH, \"claim_labels\")\n",
    "\n",
    "# gt_file = os.path.join(ground_truth_path, \"gt_labeled.ods\")\n",
    "# stats.write_ground_truth(gt_file, gt_answer_path)"
   ]
  },
  {
   "cell_type": "code",
   "execution_count": null,
   "metadata": {},
   "outputs": [],
   "source": [
    "comp_dir_name = \"claim_types_standard_prompt\"\n",
    "comparison_result_path = os.path.join(Constants.COMPARISON_PATH, comp_dir_name)"
   ]
  },
  {
   "cell_type": "code",
   "execution_count": null,
   "metadata": {},
   "outputs": [],
   "source": [
    "# table_types.check_claims_types(gt_answer_path, request_path, comparison_result_path)\n",
    "\n",
    "# request_paths = [\n",
    "#     request_path\n",
    "# ]\n",
    "\n",
    "# output_types = TableConstants.Types.CLAIMED_TYPES\n",
    "\n",
    "# table_stats.compare_multiple_results(\n",
    "#     ground_truth_path=gt_answer_path,\n",
    "#     request_paths=request_paths,\n",
    "#     comparison_path=comparison_result_path\n",
    "# )"
   ]
  }
 ],
 "metadata": {
  "kernelspec": {
   "display_name": "dev",
   "language": "python",
   "name": "python3"
  },
  "language_info": {
   "codemirror_mode": {
    "name": "ipython",
    "version": 3
   },
   "file_extension": ".py",
   "mimetype": "text/x-python",
   "name": "python",
   "nbconvert_exporter": "python",
   "pygments_lexer": "ipython3",
   "version": "3.11.6"
  }
 },
 "nbformat": 4,
 "nbformat_minor": 0
}
