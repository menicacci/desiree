{
 "cells": [
  {
   "cell_type": "markdown",
   "metadata": {},
   "source": [
    "Set-Up"
   ]
  },
  {
   "cell_type": "code",
   "execution_count": null,
   "metadata": {
    "collapsed": false,
    "pycharm": {
     "name": "#%%\n"
    }
   },
   "outputs": [],
   "source": [
    "import sys\n",
    "import os\n",
    "sys.path.append(os.path.abspath(os.path.join('..')))\n",
    "\n",
    "from scripts import request, download, extraction, stats, table\n",
    "from scripts.constants import Constants\n",
    "\n",
    "project_path = os.path.abspath(os.path.expandvars(Constants.PROJECT_PATH))\n",
    "experiments_path = os.path.join(project_path, Constants.Directories.EXPERIMENTS)\n",
    "extracted_tables_path = os.path.join(experiments_path, Constants.Directories.EXTRACTED_TABLE)\n",
    "\n",
    "connection_info = request.extract_infos('../private.json')"
   ]
  },
  {
   "cell_type": "markdown",
   "metadata": {},
   "source": [
    "Download Articles"
   ]
  },
  {
   "cell_type": "code",
   "execution_count": null,
   "metadata": {},
   "outputs": [],
   "source": [
    "article_dir = \"CS_Test\"\n",
    "articles_path = os.path.join(experiments_path, Constants.Directories.ARTICLES, article_dir)\n",
    "\n",
    "json_file_name = f\"{article_dir}.json\""
   ]
  },
  {
   "cell_type": "code",
   "execution_count": null,
   "metadata": {},
   "outputs": [],
   "source": [
    "# Download articles as HTML files\n",
    "search_query = '\"Entity Matching\"'\n",
    "download.get_articles(search_query, articles_path)"
   ]
  },
  {
   "cell_type": "code",
   "execution_count": null,
   "metadata": {},
   "outputs": [],
   "source": [
    "extraction.extract_and_save_tables(articles_path, extracted_tables_path, json_file_name)"
   ]
  },
  {
   "cell_type": "markdown",
   "metadata": {},
   "source": [
    "Claim Extraction"
   ]
  },
  {
   "cell_type": "code",
   "execution_count": null,
   "metadata": {},
   "outputs": [],
   "source": [
    "output_dir = \"cs_test\"\n",
    "tables_file_name = 'CS_Test.json'\n",
    "msgs_dir = \"CS_Outcome\"\n",
    "\n",
    "output_path = os.path.join(experiments_path, Constants.Directories.OUTPUT, output_dir)\n",
    "tables_file_path = os.path.join(extracted_tables_path, tables_file_name)\n",
    "msgs_path = os.path.join(project_path, Constants.Directories.MESSAGES, msgs_dir)"
   ]
  },
  {
   "cell_type": "code",
   "execution_count": null,
   "metadata": {},
   "outputs": [],
   "source": [
    "request.set_up_test_dir(output_path, tables_file_path, msgs_path)\n",
    "test_info = request.get_test_info(output_path)"
   ]
  },
  {
   "cell_type": "code",
   "execution_count": null,
   "metadata": {
    "collapsed": false,
    "pycharm": {
     "name": "#%%\n"
    }
   },
   "outputs": [],
   "source": [
    "request.run_test(connection_info, test_info, num_thread=50, max_cycles=3)"
   ]
  },
  {
   "cell_type": "markdown",
   "metadata": {},
   "source": [
    "Ground Truth"
   ]
  },
  {
   "cell_type": "code",
   "execution_count": null,
   "metadata": {},
   "outputs": [],
   "source": [
    "whole_dataset_path = os.path.join(extracted_tables_path, \"CS_Dataset.json\")\n",
    "extraction.check_extracted_data(whole_dataset_path)"
   ]
  },
  {
   "cell_type": "code",
   "execution_count": null,
   "metadata": {},
   "outputs": [],
   "source": [
    "gt_path = os.path.join(experiments_path, Constants.Directories.GROUND_TRUTH)\n",
    "gt_file = os.path.join(gt_path, \"table_labeled.ods\")\n",
    "gt_answer_path = os.path.join(gt_path, \"labeling\")\n",
    "\n",
    "stats.write_ground_truth(gt_file, gt_answer_path)"
   ]
  },
  {
   "cell_type": "code",
   "execution_count": null,
   "metadata": {},
   "outputs": [],
   "source": [
    "output_dir = os.path.join(experiments_path, Constants.Directories.OUTPUT)\n",
    "caption_dir = os.path.join(output_dir, \"cs_gt_caption\")\n",
    "html_dir = os.path.join(output_dir, \"cs_gt_html\")\n",
    "\n",
    "output_dirs = [\n",
    "    (caption_dir, 1),\n",
    "    (html_dir, 1)\n",
    "]\n",
    "\n",
    "json_path = os.path.join(experiments_path, \"comparison.json\")\n",
    "stats.compare_results(gt_answer_path, output_dirs, json_path)"
   ]
  }
 ],
 "metadata": {
  "kernelspec": {
   "display_name": "Python 3",
   "language": "python",
   "name": "python3"
  },
  "language_info": {
   "codemirror_mode": {
    "name": "ipython",
    "version": 3
   },
   "file_extension": ".py",
   "mimetype": "text/x-python",
   "name": "python",
   "nbconvert_exporter": "python",
   "pygments_lexer": "ipython3",
   "version": "3.11.9"
  }
 },
 "nbformat": 4,
 "nbformat_minor": 0
}
