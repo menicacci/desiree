{
 "cells": [
  {
   "cell_type": "code",
   "execution_count": null,
   "metadata": {
    "pycharm": {
     "name": "#%%\n"
    }
   },
   "outputs": [],
   "source": [
    "import sys\n",
    "import os\n",
    "sys.path.append(os.path.abspath(os.path.join('..')))\n",
    "\n",
    "from scripts import claim, display\n",
    "from scripts.table import table_eval\n",
    "from scripts.constants import Constants\n",
    "from scripts.llm import llm_utils\n",
    "from scripts.table.table_constants import TableConstants\n",
    "\n",
    "project_path = os.path.abspath(os.path.expandvars(Constants.PROJECT_PATH))\n",
    "experiments_path = os.path.join(project_path, Constants.Directories.EXPERIMENTS)\n",
    "\n",
    "output_path = os.path.join(experiments_path, Constants.Directories.OUTPUT)\n",
    "ground_truth_path = os.path.join(experiments_path, Constants.Directories.GROUND_TRUTH)"
   ]
  },
  {
   "cell_type": "code",
   "execution_count": null,
   "metadata": {},
   "outputs": [],
   "source": [
    "request_dir = \"old_structure/cs_dataset/1\"\n",
    "request_path = os.path.join(output_path, request_dir)\n",
    "\n",
    "tables_path = llm_utils.get_request_info(request_path)[TableConstants.Attributes.TABLES_PATH]"
   ]
  },
  {
   "cell_type": "code",
   "execution_count": null,
   "metadata": {},
   "outputs": [],
   "source": [
    "d_result = table_eval.evaluate_extracted_articles(tables_path, request_path, False, False)\n",
    "\n",
    "outcome_claims, data_claims, wrong_claims = claim.get_claim_types(request_path)\n",
    "\n",
    "outcome_results = [x for x in d_result if x[0] in outcome_claims]\n",
    "data_results = [x for x in d_result if x[0] in data_claims]\n",
    "all_results = outcome_results + data_results\n",
    "\n",
    "num_wrong_claims = len(wrong_claims)\n",
    "num_good_claims = len(all_results)\n",
    "\n",
    "print(f\"Data Tables Coverage Results - # Tables: {len(data_results)}\")\n",
    "display.plot_value_distribution(data_results, color=\"green\")\n",
    "\n",
    "print(f\"Outcome Tables Coverage Results - # Tables: {len(outcome_results)}\")\n",
    "display.plot_value_distribution(outcome_results, color=\"yellow\")\n",
    "\n",
    "print(f\"All Correct Tables Coverage Results - # Tables {num_good_claims}\")\n",
    "display.plot_value_distribution(all_results)\n",
    "\n",
    "ratio = \"{:.4f}\".format(num_wrong_claims/(num_wrong_claims + num_good_claims))\n",
    "print(f\"Bad Extractions: {num_wrong_claims}/{num_good_claims + num_wrong_claims} - {ratio}\")"
   ]
  },
  {
   "cell_type": "code",
   "execution_count": null,
   "metadata": {},
   "outputs": [],
   "source": [
    "group_colors = display.plot_grouped_bars(d_result)\n",
    "\n",
    "display.show_single_key_group_color(group_colors)"
   ]
  }
 ],
 "metadata": {
  "kernelspec": {
   "display_name": "Python 3 (ipykernel)",
   "language": "python",
   "name": "python3"
  },
  "language_info": {
   "codemirror_mode": {
    "name": "ipython",
    "version": 3
   },
   "file_extension": ".py",
   "mimetype": "text/x-python",
   "name": "python",
   "nbconvert_exporter": "python",
   "pygments_lexer": "ipython3",
   "version": "3.11.6"
  }
 },
 "nbformat": 4,
 "nbformat_minor": 1
}
