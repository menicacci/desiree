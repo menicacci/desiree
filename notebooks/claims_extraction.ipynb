{
 "cells": [
  {
   "cell_type": "markdown",
   "metadata": {},
   "source": [
    "Set-Up"
   ]
  },
  {
   "cell_type": "code",
   "execution_count": null,
   "metadata": {
    "collapsed": false,
    "pycharm": {
     "name": "#%%\n"
    }
   },
   "outputs": [],
   "source": [
    "import sys\n",
    "import os\n",
    "sys.path.append(os.path.abspath(os.path.join('..')))\n",
    "\n",
    "from scripts import request, download, extraction, stats, utils\n",
    "from scripts.constants import Constants\n",
    "\n",
    "project_path = os.path.abspath(os.path.expandvars(Constants.PROJECT_PATH))\n",
    "experiments_path = os.path.join(project_path, Constants.EXPERIMENTS_DIR)\n",
    "\n",
    "connection_info = request.extract_infos('../private.json')"
   ]
  },
  {
   "cell_type": "markdown",
   "metadata": {},
   "source": [
    "Download Articles"
   ]
  },
  {
   "cell_type": "code",
   "execution_count": null,
   "metadata": {},
   "outputs": [],
   "source": [
    "article_dir = \"CS_GroundTruth\"\n",
    "articles_path = os.path.join(experiments_path, Constants.ARTICLES_DIR, article_dir)"
   ]
  },
  {
   "cell_type": "code",
   "execution_count": null,
   "metadata": {},
   "outputs": [],
   "source": [
    "# Download articles as HTML files\n",
    "search_query = '\"Entity Matching\"'\n",
    "download.get_articles(search_query, articles_path)"
   ]
  },
  {
   "cell_type": "code",
   "execution_count": null,
   "metadata": {},
   "outputs": [],
   "source": [
    "tables_path = os.path.join(experiments_path, Constants.EXTRACTED_TABLE_DIR)\n",
    "json_file_name = f\"{article_dir}.json\"\n",
    "\n",
    "\n",
    "extraction.extract_and_save_tables(articles_path, tables_path, json_file_name)"
   ]
  },
  {
   "cell_type": "markdown",
   "metadata": {},
   "source": [
    "Claim Extraction"
   ]
  },
  {
   "cell_type": "code",
   "execution_count": null,
   "metadata": {},
   "outputs": [],
   "source": [
    "output_dir = \"cs_1\"\n",
    "tables_file_name = 'CS_Dataset_Mini.json'\n",
    "msgs_dir = \"CS_Caption_Labeling\""
   ]
  },
  {
   "cell_type": "code",
   "execution_count": null,
   "metadata": {},
   "outputs": [],
   "source": [
    "request.set_up_test_dir(project_path, output_dir, tables_file_name, msgs_dir)\n",
    "test_info = request.get_test_info(project_path, output_dir)"
   ]
  },
  {
   "cell_type": "code",
   "execution_count": null,
   "metadata": {
    "collapsed": false,
    "pycharm": {
     "name": "#%%\n"
    }
   },
   "outputs": [],
   "source": [
    "request.run_test(connection_info, test_info, num_thread=50, max_cycles=3)"
   ]
  },
  {
   "cell_type": "markdown",
   "metadata": {},
   "source": [
    "Ground Truth"
   ]
  },
  {
   "cell_type": "code",
   "execution_count": null,
   "metadata": {},
   "outputs": [],
   "source": [
    "gt_path = os.path.join(experiments_path, Constants.GROUND_TRUTH_DIR, \"output_files\")\n",
    "\n",
    "caption_dir = os.path.join(experiments_path, Constants.OUTPUT_DIR, \"cs_NEW_GT_Caption_Label\")\n",
    "html_dir = os.path.join(experiments_path, Constants.OUTPUT_DIR, \"cs_NEW_GT_HTML_Label\")\n",
    "\n",
    "output_dirs = [\n",
    "    (caption_dir, 1),\n",
    "    (html_dir, 1)\n",
    "]\n",
    "\n",
    "json_path = os.path.join(experiments_path, \"comparison.json\")\n",
    "stats.compare_results(gt_path, output_dirs, json_path)"
   ]
  }
 ],
 "metadata": {
  "kernelspec": {
   "display_name": "Python 3",
   "language": "python",
   "name": "python3"
  },
  "language_info": {
   "codemirror_mode": {
    "name": "ipython",
    "version": 3
   },
   "file_extension": ".py",
   "mimetype": "text/x-python",
   "name": "python",
   "nbconvert_exporter": "python",
   "pygments_lexer": "ipython3",
   "version": "3.11.9"
  }
 },
 "nbformat": 4,
 "nbformat_minor": 0
}
