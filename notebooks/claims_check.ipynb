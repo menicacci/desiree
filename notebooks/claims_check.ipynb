{
 "cells": [
  {
   "cell_type": "code",
   "execution_count": null,
   "metadata": {
    "pycharm": {
     "name": "#%%\n"
    }
   },
   "outputs": [],
   "source": [
    "import sys\n",
    "import os\n",
    "sys.path.append(os.path.abspath(os.path.join('..')))\n",
    "\n",
    "from scripts import claim, display, stats\n",
    "from scripts.table import table_eval\n",
    "from scripts.constants import Constants\n",
    "\n",
    "project_path = os.path.abspath(os.path.expandvars(Constants.PROJECT_PATH))\n",
    "experiments_path = os.path.join(project_path, Constants.Directories.EXPERIMENTS)\n",
    "\n",
    "test_index = 1\n",
    "dataset_name = \"cs_dataset\"\n",
    "json_tables = \"CS_Dataset.json\"\n",
    "\n",
    "tables_file_path = os.path.join(experiments_path, Constants.Directories.EXTRACTED_TABLE, json_tables)\n",
    "\n",
    "dataset_path = os.path.join(experiments_path, Constants.Directories.OUTPUT, dataset_name, str(test_index))\n",
    "ground_truth_path = os.path.join(experiments_path, Constants.Directories.GROUND_TRUTH, \"dataset\")"
   ]
  },
  {
   "cell_type": "code",
   "execution_count": null,
   "metadata": {},
   "outputs": [],
   "source": [
    "# d_results = eval.evaluate_extracted_articles(tables_file_path, dataset_path, False, False)\n",
    "\n",
    "# print(f\"# of Tables: {len(d_results)}\")\n",
    "\n",
    "# outcome_claims, data_claims, wrong_claims = stats.get_claim_types(dataset_path)\n",
    "\n",
    "# outcome_results = [x for x in d_results if x[0] in outcome_claims]\n",
    "# data_results = [x for x in d_results if x[0] in data_claims]\n",
    "\n",
    "# all_results = outcome_results + data_results\n",
    "\n",
    "# num_wrong_claims = len(wrong_claims)\n",
    "# num_good_claims = len(all_results)\n",
    "\n",
    "# print(f\"Data Tables Coverage Results - # Tables: {len(data_results)}\")\n",
    "# display.plot_value_distribution(data_results, color=\"green\")\n",
    "\n",
    "# print(f\"Outcome Tables Coverage Results - # Tables: {len(outcome_results)}\")\n",
    "# display.plot_value_distribution(outcome_results, color=\"yellow\")\n",
    "\n",
    "# print(f\"All Correct Tables Coverage Results - # Tables {num_good_claims}\")\n",
    "# display.plot_value_distribution(all_results)\n",
    "\n",
    "# ratio = \"{:.4f}\".format(num_wrong_claims/(num_wrong_claims + num_good_claims))\n",
    "# print(f\"Bad Extractions: {num_wrong_claims}/{num_good_claims + num_wrong_claims} - {ratio}\")"
   ]
  },
  {
   "cell_type": "code",
   "execution_count": null,
   "metadata": {},
   "outputs": [],
   "source": [
    "# full_articles_gt = os.path.join(ground_truth_path, \"full_articles\")\n",
    "\n",
    "# gt_results = eval.evaluate_extracted_articles(tables_file_path, full_articles_gt, False, False)\n",
    "\n",
    "# group_colors = display.plot_grouped_bars(gt_results)\n",
    "\n",
    "# print(f\"# of Tables: {len(gt_results)}\")\n",
    "\n",
    "# display.show_single_key_group_color(group_colors)"
   ]
  },
  {
   "cell_type": "code",
   "execution_count": null,
   "metadata": {},
   "outputs": [],
   "source": [
    "# article_id = \"2404.05566\"\n",
    "# table_idx = \"2\"\n",
    "\n",
    "# path = os.path.join(full_articles_gt, Constants.Directories.LLM_ANSWER, f\"{article_id}_{table_idx}\" + \".txt\")\n",
    "# table_claims = claim.extract_claims_from_answers(path)\n",
    "# display.print_table_claims(0, table_claims)\n",
    "\n",
    "# similarities, pd_table, unique_values_extracted, claim_dict = eval.evaluate_extracted_article(tables_file_path, dataset_path, article_id, table_idx)\n",
    "\n",
    "# pd_table"
   ]
  },
  {
   "cell_type": "code",
   "execution_count": null,
   "metadata": {},
   "outputs": [],
   "source": [
    "# similarities"
   ]
  }
 ],
 "metadata": {
  "kernelspec": {
   "display_name": "Python 3 (ipykernel)",
   "language": "python",
   "name": "python3"
  },
  "language_info": {
   "codemirror_mode": {
    "name": "ipython",
    "version": 3
   },
   "file_extension": ".py",
   "mimetype": "text/x-python",
   "name": "python",
   "nbconvert_exporter": "python",
   "pygments_lexer": "ipython3",
   "version": "3.11.6"
  }
 },
 "nbformat": 4,
 "nbformat_minor": 1
}
