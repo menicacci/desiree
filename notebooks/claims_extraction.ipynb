{
 "cells": [
  {
   "cell_type": "code",
   "execution_count": 1,
   "metadata": {
    "collapsed": false,
    "pycharm": {
     "name": "#%%\n"
    }
   },
   "outputs": [],
   "source": [
    "import sys\n",
    "import os\n",
    "sys.path.append(os.path.abspath(os.path.join('..')))\n",
    "\n",
    "from scripts import request, table, utils\n",
    "from scripts.constants import Constants\n",
    "\n",
    "project_path = os.path.abspath(os.path.expandvars(Constants.PROJECT_PATH))\n",
    "experiments_path = os.path.join(project_path, Constants.EXPERIMENTS_DIR)"
   ]
  },
  {
   "cell_type": "code",
   "execution_count": 2,
   "metadata": {},
   "outputs": [],
   "source": [
    "connection_infos = request.extract_infos('../private.json')\n",
    "\n",
    "msgs_dir = \"CS_Table_Labeling\"\n",
    "msgs_base_path = os.path.join(project_path, Constants.MESSAGES_DIR, msgs_dir)\n",
    "\n",
    "html_prompt = True\n",
    "\n",
    "msgs_file_paths = {\n",
    "    'system_1':  f'{msgs_base_path}/system_1.txt',\n",
    "    'system_2':  f'{msgs_base_path}/system_2.txt',\n",
    "    'user_1':    f'{msgs_base_path}/user_1.txt',\n",
    "    'user_2':    f'{msgs_base_path}/user_2.txt',\n",
    "    'assistant': f'{msgs_base_path}/assistant.txt'\n",
    "}\n",
    "\n",
    "output_dir = \"cs_dataset_data_table_label\"\n",
    "output_path = os.path.join(experiments_path, Constants.OUTPUT_DIR, output_dir)\n",
    "utils.check_path(output_path)\n",
    "\n",
    "output_path = utils.get_test_path(output_path)\n",
    "\n",
    "tables_file_name = 'CS_Dataset_Data.json'\n",
    "tables_file_path = os.path.join(experiments_path, Constants.EXTRACTED_TABLE_DIR, tables_file_name)\n",
    "\n",
    "answers_path = os.path.join(output_path, Constants.LLM_ANSWER_DIR)"
   ]
  },
  {
   "cell_type": "code",
   "execution_count": null,
   "metadata": {
    "collapsed": false,
    "pycharm": {
     "name": "#%%\n"
    }
   },
   "outputs": [],
   "source": [
    "num_thread = 50\n",
    "\n",
    "while True:\n",
    "    tables_to_process = table.check_processed_tables(tables_file_path, answers_path)\n",
    "    if tables_to_process == 0:\n",
    "        break\n",
    "\n",
    "    tables = table.load_tables_from_json(tables_file_path)\n",
    "    request.run(connection_infos, msgs_file_paths, tables, output_path, min(num_thread, tables_to_process), html_prompt)"
   ]
  },
  {
   "cell_type": "code",
   "execution_count": null,
   "metadata": {
    "collapsed": false,
    "pycharm": {
     "name": "#%%\n"
    }
   },
   "outputs": [],
   "source": [
    "answers_path = os.path.join(output_path, Constants.LLM_ANSWER_DIR)\n",
    "table.check_processed_tables(tables_file_path, answers_path)"
   ]
  },
  {
   "cell_type": "code",
   "execution_count": null,
   "metadata": {},
   "outputs": [],
   "source": [
    "table.reset_processed_tables(tables_file_path)"
   ]
  }
 ],
 "metadata": {
  "kernelspec": {
   "display_name": "Python 3",
   "language": "python",
   "name": "python3"
  },
  "language_info": {
   "codemirror_mode": {
    "name": "ipython",
    "version": 3
   },
   "file_extension": ".py",
   "mimetype": "text/x-python",
   "name": "python",
   "nbconvert_exporter": "python",
   "pygments_lexer": "ipython3",
   "version": "3.11.9"
  }
 },
 "nbformat": 4,
 "nbformat_minor": 0
}
